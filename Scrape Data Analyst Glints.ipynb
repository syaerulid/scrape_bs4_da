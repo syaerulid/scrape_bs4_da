{
 "cells": [
  {
   "cell_type": "code",
   "execution_count": 217,
   "id": "6c2f67e3",
   "metadata": {},
   "outputs": [],
   "source": [
    "import requests\n",
    "from bs4 import BeautifulSoup\n",
    "import csv"
   ]
  },
  {
   "cell_type": "code",
   "execution_count": 218,
   "id": "a7e476a4",
   "metadata": {},
   "outputs": [],
   "source": [
    "url = \"https://glints.com/id/opportunities/jobs/explore?keyword=data+analyst&country=ID&locationName=Indonesia\""
   ]
  },
  {
   "cell_type": "code",
   "execution_count": 219,
   "id": "cf6898e1",
   "metadata": {},
   "outputs": [],
   "source": [
    "req = requests.get(url)"
   ]
  },
  {
   "cell_type": "code",
   "execution_count": 220,
   "id": "9f14448d",
   "metadata": {},
   "outputs": [
    {
     "data": {
      "text/plain": [
       "<Response [200]>"
      ]
     },
     "execution_count": 220,
     "metadata": {},
     "output_type": "execute_result"
    }
   ],
   "source": [
    "req"
   ]
  },
  {
   "cell_type": "code",
   "execution_count": 221,
   "id": "351d238f",
   "metadata": {},
   "outputs": [],
   "source": [
    "soup = BeautifulSoup(req.text, \"html.parser\")"
   ]
  },
  {
   "cell_type": "code",
   "execution_count": 222,
   "id": "7122e425",
   "metadata": {},
   "outputs": [],
   "source": [
    "semua = soup.find_all('div', class_='ExploreTabsc__Body-sc-1fr7yeh-3 liSMo')"
   ]
  },
  {
   "cell_type": "code",
   "execution_count": 301,
   "id": "1f752a23",
   "metadata": {},
   "outputs": [],
   "source": [
    "semua = soup.find_all('div', class_='ExploreTabsc__Body-sc-1fr7yeh-3 liSMo')\n",
    "data = []\n",
    "for div in semua:\n",
    "    h3_elements = div.find_all('h3', class_='CompactOpportunityCardsc__JobTitle-sc-dkg8my-7')\n",
    "    for h3 in h3_elements:\n",
    "        role = h3.text\n",
    "\n",
    "    company_el = div.find_all('span', class_ ='CompactOpportunityCardsc__CompanyLinkContainer-sc-dkg8my-10 bPZqe')\n",
    "    for co in company_el:\n",
    "        company = co.text\n",
    "        \n",
    "    lokasi_el = div.find_all('span', class_ ='CompactOpportunityCardsc__HierarchicalLocationSpan-sc-dkg8my-26 gWoWBv')\n",
    "    for lo in lokasi_el:\n",
    "        lokasi = lo.text\n",
    "        \n",
    "    image = div.find_all('div', class_ = 'CompactOpportunityCardsc__CompanyAvatarWrapper-sc-dkg8my-3 fOrODc')\n",
    "    for i in image:\n",
    "        gambar = i.find('img')['src']\n",
    "        \n",
    "    salary = div.find_all('div', class_='CompactOpportunityCardsc__OpportunityInfoContainer-sc-dkg8my-12 iuzgBw')\n",
    "    for s in salary:\n",
    "        spans = s.find_all('span')\n",
    "        if len(spans) >= 2:\n",
    "            gaji = spans[1].text\n",
    "        else:\"\"\n",
    "            \n",
    "    experience = div.find_all('div', class_='CompactOpportunityCardsc__OpportunityInfo-sc-dkg8my-13 fjxsHI')\n",
    "    for e in experience:\n",
    "        pengalaman = e.text.split('\\n')[-1].strip()\n",
    "\n",
    "data.append([role,company,lokasi,gambar,gaji,pengalaman])"
   ]
  },
  {
   "cell_type": "code",
   "execution_count": 302,
   "id": "7be7825e",
   "metadata": {},
   "outputs": [],
   "source": [
    "#save data to CSV\n",
    "filename = \"data_analysts.csv\"\n",
    "kepala = [\"role\",\"company\",\"lokasi\",\"gambar\",\"gaji\",\"pengalaman\"]"
   ]
  },
  {
   "cell_type": "code",
   "execution_count": 327,
   "id": "17ff63f0",
   "metadata": {},
   "outputs": [],
   "source": [
    "import csv\n",
    "\n",
    "# Create a list to store the extracted data\n",
    "roles = []\n",
    "companies = []\n",
    "loc = []\n",
    "gam = []\n",
    "penghasilan = []\n",
    "pengalamans = []\n",
    "\n",
    "semua = soup.find_all('div', class_='ExploreTabsc__Body-sc-1fr7yeh-3 liSMo')\n",
    "for div in semua:\n",
    "    h3_elements = div.find_all('h3', class_='CompactOpportunityCardsc__JobTitle-sc-dkg8my-7')\n",
    "    for h3 in h3_elements:\n",
    "        role = h3.text\n",
    "        roles.append(role)\n",
    "\n",
    "    company_el = div.find_all('span', class_='CompactOpportunityCardsc__CompanyLinkContainer-sc-dkg8my-10 bPZqe')\n",
    "    for co in company_el:\n",
    "        company = co.text\n",
    "        companies.append(company)\n",
    "\n",
    "    lokasi_el = div.find_all('span', class_='CompactOpportunityCardsc__HierarchicalLocationSpan-sc-dkg8my-26 gWoWBv')\n",
    "    for lo in lokasi_el:\n",
    "        lokasi = lo.text\n",
    "        loc.append(lokasi)\n",
    "\n",
    "    image = div.find_all('div', class_='CompactOpportunityCardsc__CompanyAvatarWrapper-sc-dkg8my-3 fOrODc')\n",
    "    for i in image:\n",
    "        gambar = i.find('img')['src']\n",
    "        gam.append(gambar)\n",
    "\n",
    "    salary = div.find_all('div', class_='CompactOpportunityCardsc__OpportunityInfoContainer-sc-dkg8my-12 iuzgBw')\n",
    "    for s in salary:\n",
    "        spans = s.find_all('span')\n",
    "        if len(spans) >= 2:\n",
    "            gaji = spans[1].text\n",
    "        else:\n",
    "            gaji = \"Perusahaan tidak menampilkan gaji\"\n",
    "        penghasilan.append(gaji)\n",
    "\n",
    "    experience = div.find_all('div', class_='CompactOpportunityCardsc__OpportunityInfo-sc-dkg8my-13 fjxsHI')\n",
    "    for e in experience:\n",
    "        pengalaman = e.text.split('\\n')[-1].strip()\n",
    "        pengalamans.append(pengalaman)\n",
    "        \n",
    "        "
   ]
  },
  {
   "cell_type": "code",
   "execution_count": 328,
   "id": "8a321752",
   "metadata": {},
   "outputs": [
    {
     "name": "stdout",
     "output_type": "stream",
     "text": [
      "Data has been saved to data_analyts_coba.csv\n"
     ]
    }
   ],
   "source": [
    "import csv\n",
    "\n",
    "# Combine extract data\n",
    "rows = zip(roles, companies, loc, gam, penghasilan, pengalamans)\n",
    "\n",
    "csv_file = 'data_analyts_coba.csv'\n",
    "\n",
    "# write data to csv\n",
    "with open(csv_file, 'w', newline='', encoding='utf-8') as file:\n",
    "    writer = csv.writer(file)\n",
    "    \n",
    "    # Write the header row\n",
    "    writer.writerow(['Role', 'Company', 'Location', 'Image', 'Salary', 'Experience'])\n",
    "    \n",
    "    # write the data rows\n",
    "    writer.writerows(rows)\n",
    "    \n",
    "print(\"Data has been saved to\", csv_file)"
   ]
  },
  {
   "cell_type": "code",
   "execution_count": 320,
   "id": "e89c9beb",
   "metadata": {},
   "outputs": [
    {
     "name": "stdout",
     "output_type": "stream",
     "text": [
      "Data Scientist\n"
     ]
    }
   ],
   "source": [
    "print(role)"
   ]
  },
  {
   "cell_type": "code",
   "execution_count": 326,
   "id": "02f9859b",
   "metadata": {},
   "outputs": [
    {
     "data": {
      "text/plain": [
       "['Data Analyst',\n",
       " 'Data Analyst',\n",
       " 'Data Analyst',\n",
       " 'Data Analyst',\n",
       " 'Data Analyst',\n",
       " 'Data Analyst',\n",
       " 'DATA ANALYST',\n",
       " 'Data Analyst',\n",
       " 'Data Analyst',\n",
       " 'Data Analyst',\n",
       " 'Data Analyst Staff',\n",
       " 'Data Distribution Analyst',\n",
       " 'Freelance Data Analyst',\n",
       " 'Marketing Data Analyst',\n",
       " 'Staff Data Analyst',\n",
       " 'Data Anlyst',\n",
       " 'Internship Data Analyst',\n",
       " 'Internship Data Analyst (PAID)',\n",
       " 'Data Analyst Manager',\n",
       " '[Freelance] Mentor Data Analyst',\n",
       " 'Data Analyst and Storyteller',\n",
       " 'Bob Junior Program - Data Analyst Intern',\n",
       " 'Data Analysis Social Media / E-commerce',\n",
       " 'Data Engineer',\n",
       " 'Data Engineer',\n",
       " 'Data Science',\n",
       " 'Data Engineer',\n",
       " 'Inventory Analyst',\n",
       " 'Data Entry',\n",
       " 'Data Scientist']"
      ]
     },
     "execution_count": 326,
     "metadata": {},
     "output_type": "execute_result"
    }
   ],
   "source": [
    "roles"
   ]
  },
  {
   "cell_type": "code",
   "execution_count": null,
   "id": "fb7e3056",
   "metadata": {},
   "outputs": [],
   "source": []
  }
 ],
 "metadata": {
  "kernelspec": {
   "display_name": "Python 3 (ipykernel)",
   "language": "python",
   "name": "python3"
  },
  "language_info": {
   "codemirror_mode": {
    "name": "ipython",
    "version": 3
   },
   "file_extension": ".py",
   "mimetype": "text/x-python",
   "name": "python",
   "nbconvert_exporter": "python",
   "pygments_lexer": "ipython3",
   "version": "3.9.12"
  }
 },
 "nbformat": 4,
 "nbformat_minor": 5
}
